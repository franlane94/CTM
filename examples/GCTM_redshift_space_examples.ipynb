{
 "cells": [
  {
   "cell_type": "markdown",
   "metadata": {
    "colab_type": "text",
    "id": "nYBvOGZYux8i"
   },
   "source": [
    "# Example I - Calculating the real-space Zel'dovich power spectrum"
   ]
  },
  {
   "cell_type": "code",
   "execution_count": 1,
   "metadata": {
    "colab": {},
    "colab_type": "code",
    "executionInfo": {
     "elapsed": 2903,
     "status": "ok",
     "timestamp": 1599484659058,
     "user": {
      "displayName": "Francesca Lane",
      "photoUrl": "",
      "userId": "09124338880882311062"
     },
     "user_tz": -60
    },
    "id": "ixpzwiHWteN3"
   },
   "outputs": [],
   "source": [
    "import matplotlib.pyplot as plt\n",
    "import numpy as np\n",
    "from GCTM.gctm import GCTM\n",
    "\n",
    "import matplotlib as mpl\n",
    "\n",
    "from matplotlib import animation\n",
    "from IPython.display import HTML\n",
    "\n",
    "from matplotlib import rc\n",
    "from matplotlib import gridspec\n",
    "from mpl_toolkits.axes_grid1 import AxesGrid\n",
    "from matplotlib.transforms import blended_transform_factory\n",
    "\n",
    "from scipy.interpolate import interp1d as interp\n",
    "\n",
    "mpl.rcParams['text.latex.preamble']=[r\"\\usepackage{amsmath}\"]\n",
    "mpl.rcParams[\"text.usetex\"] = True\n",
    "mpl.rcParams['font.family'] = 'sans-serif'\n",
    "mpl.rcParams['font.sans-serif'] = 'cm'\n",
    "mpl.rcParams[\"lines.linewidth\"] = 2.2\n",
    "mpl.rcParams[\"axes.linewidth\"] = 1.5\n",
    "mpl.rcParams[\"axes.labelsize\"] = 14.\n",
    "mpl.rcParams[\"xtick.top\"] = True\n",
    "mpl.rcParams[\"xtick.labelsize\"] = 14.\n",
    "mpl.rcParams[\"xtick.direction\"] = \"in\"\n",
    "mpl.rcParams[\"ytick.right\"] = True\n",
    "mpl.rcParams[\"ytick.labelsize\"] = 14.\n",
    "mpl.rcParams[\"ytick.direction\"] = \"in\"\n",
    "mpl.rcParams[\"xtick.minor.bottom\"] = False\n",
    "mpl.rcParams[\"xtick.minor.top\"] = False\n",
    "mpl.rcParams[\"ytick.minor.left\"] = False\n",
    "mpl.rcParams[\"ytick.minor.right\"] = False"
   ]
  },
  {
   "cell_type": "markdown",
   "metadata": {
    "colab_type": "text",
    "id": "IDhnC9OvteN_"
   },
   "source": [
    "## Calculate the linear power spectrum in real-space at both z=0 and z=10\n",
    "\n"
   ]
  },
  {
   "cell_type": "markdown",
   "metadata": {
    "colab_type": "text",
    "id": "tIaKPXjk2I9Y"
   },
   "source": [
    "The automatic cosmological parameters are: *h = 0.6737, omega0_b = 0.02233, omega0_cdm = 0.11977, k_max=10., n_s = 0.9652, sigma_8 = 0.8101, gauge= 'sync'*\n",
    "\n",
    "To change these use **P_lin = GCTM(h=h).linear_power(k_vals, z_val=0.0)** for example"
   ]
  },
  {
   "cell_type": "code",
   "execution_count": 2,
   "metadata": {
    "colab": {},
    "colab_type": "code",
    "executionInfo": {
     "elapsed": 7703,
     "status": "ok",
     "timestamp": 1599484687367,
     "user": {
      "displayName": "Francesca Lane",
      "photoUrl": "",
      "userId": "09124338880882311062"
     },
     "user_tz": -60
    },
    "id": "k_qcwPy4teOA"
   },
   "outputs": [],
   "source": [
    "## Define k values\n",
    "\n",
    "k_vals = np.logspace(-3, 1, 1000)\n",
    "\n",
    "## Compute the linear power spectrum at z=0\n",
    "\n",
    "P_lin = GCTM().linear_power(k_vals)\n",
    "\n",
    "## Compute the linear power spectrum at z=10\n",
    "\n",
    "P_lin_10 = GCTM().linear_power(k_vals, z_val=10.0)"
   ]
  },
  {
   "cell_type": "markdown",
   "metadata": {},
   "source": [
    "## Calculate the Kaiser power spectrum in redshift-space at z=0 for a range of line-of-sight angles"
   ]
  },
  {
   "cell_type": "markdown",
   "metadata": {
    "colab_type": "text",
    "id": "IWr-M7j11-Ij"
   },
   "source": [
    "The automatic parameters for the computation of the Kaiser power spectrum are: *min_k = 1e-5, max_k = 10.0, nk=3000, h = 0.6737, omega0_b = 0.02233, omega0_cdm = 0.11977, n_s = 0.9652, sigma_8 = 0.8101*\n",
    "\n",
    "Other parameters are:\n",
    "\n",
    "**z_val**: value at which the power spectrum is calculated\n",
    "\n",
    "**input_k**: input k values\n",
    "\n",
    "**input_P**: input P values\n",
    "\n",
    "**mu_k_val**: the line-of-sight angle parameter defined as $\\mu_k=\\hat{\\mathbf{k}}\\cdot\\hat{\\mathbf{z}}$ where $\\hat{\\mathbf{z}}$ is the global line-of-sight\n",
    "\n",
    "These can be changed using\n",
    "\n",
    "**GCTM().kaiser_power(input_k=input_k)** for example\n",
    "\n",
    "The Kaiser power spectrum is defined as: \n",
    "\n",
    "$$\\mathrm{P}_\\mathrm{Kas}=\\left(1+f_1\\mu_k^2\\right)^2\\mathrm{P}_\\mathrm{lin}$$"
   ]
  },
  {
   "cell_type": "code",
   "execution_count": 3,
   "metadata": {
    "colab": {
     "base_uri": "https://localhost:8080/"
    },
    "colab_type": "code",
    "executionInfo": {
     "elapsed": 764837,
     "status": "ok",
     "timestamp": 1599237993668,
     "user": {
      "displayName": "Francesca Lane",
      "photoUrl": "",
      "userId": "09124338880882311062"
     },
     "user_tz": -60
    },
    "id": "3z2rviZiteOV",
    "outputId": "2e6aa5a0-8387-44c2-ae17-842a0813d22c"
   },
   "outputs": [],
   "source": [
    "P_kaiser = GCTM().kaiser_power(input_k=k_vals, mu_k_val=0.0)\n",
    "P_kaiser_05 = GCTM().kaiser_power(input_k=k_vals, mu_k_val=0.5)\n",
    "P_kaiser_1 = GCTM().kaiser_power(input_k=k_vals, mu_k_val=1.0)"
   ]
  },
  {
   "cell_type": "code",
   "execution_count": 4,
   "metadata": {
    "colab": {
     "base_uri": "https://localhost:8080/",
     "height": 355
    },
    "colab_type": "code",
    "executionInfo": {
     "elapsed": 1420,
     "status": "ok",
     "timestamp": 1598882510516,
     "user": {
      "displayName": "Francesca Lane",
      "photoUrl": "",
      "userId": "09124338880882311062"
     },
     "user_tz": -60
    },
    "id": "pDHJVYPxteOd",
    "outputId": "3e2a59db-7bb4-477a-c841-0cbd8ee0d6a6"
   },
   "outputs": [
    {
     "data": {
      "text/plain": [
       "<matplotlib.legend.Legend at 0x7fbcdb270650>"
      ]
     },
     "execution_count": 4,
     "metadata": {},
     "output_type": "execute_result"
    },
    {
     "name": "stderr",
     "output_type": "stream",
     "text": [
      "findfont: Font family ['sans-serif'] not found. Falling back to DejaVu Sans.\n"
     ]
    },
    {
     "data": {
      "image/png": "[encoded data removed]",
      "text/plain": [
       "<Figure size 432x360 with 1 Axes>"
      ]
     },
     "metadata": {
      "needs_background": "light"
     },
     "output_type": "display_data"
    }
   ],
   "source": [
    "## Plot the resulting power spectrum\n",
    "\n",
    "fig = plt.figure(figsize=(6,5))\n",
    "gs = gridspec.GridSpec(1,1)\n",
    "\n",
    "gs.update(wspace=0.05, hspace=0.1)\n",
    "ax1 = fig.add_subplot(gs[0])\n",
    "\n",
    "ax1.loglog(k_vals, P_lin, color=\"black\", label=r\"$\\mathrm{Linear}$\")\n",
    "ax1.loglog(k_vals, P_kaiser, color=\"red\", linestyle=\"--\", label=r\"$\\mu_k=0$\")\n",
    "ax1.loglog(k_vals, P_kaiser_05, color=\"blue\", linestyle=\"--\", label=r\"$\\mu_k=0.5$\")\n",
    "ax1.loglog(k_vals, P_kaiser_1, color=\"green\", linestyle=\"--\", label=r\"$\\mu_k=1$\")\n",
    "ax1.set_xlabel(r\"$k\\ [\\mathrm{h}\\ \\mathrm{Mpc}^{-1}]$\")\n",
    "ax1.set_ylabel(r\"$P(k)\\ [\\mathrm{h}^{-3}\\ \\mathrm{Mpc}^{3}]$\")\n",
    "ax1.set_xlim([1e-3,max(k_vals)])\n",
    "ax1.legend(loc=\"upper right\",frameon=False,fontsize=14)"
   ]
  },
  {
   "cell_type": "markdown",
   "metadata": {
    "colab_type": "text",
    "id": "Y4zsMn4EteOj"
   },
   "source": [
    "## Calculate the Zel'dovich power spectrum with specified k values in redshift-space"
   ]
  },
  {
   "cell_type": "markdown",
   "metadata": {},
   "source": [
    "The automatic parameters for the computation of the Zel'dovich power spectrum are: *min_k = 1e-5, max_k = 10.0, nk=3000*\n",
    "\n",
    "Note that the min_k and max_k values were chosen in order for the integral to converge.\n",
    "\n",
    "Other parameters are:\n",
    "\n",
    "**z_val**: value at which the power spectrum is calculated\n",
    "\n",
    "**input_k**: input k values\n",
    "\n",
    "**input_P**: input P values at z=0 (note input_k values must be given as well)\n",
    "\n",
    "**mu_k_val**: the line-of-sight angle parameter defined as $\\mu_k=\\hat{\\mathbf{k}}\\cdot\\hat{\\mathbf{z}}$ where $\\hat{\\mathbf{z}}$ is the global line-of-sight\n",
    "\n",
    "These can be changed using\n",
    "\n",
    "**GCTM().zeldovich_power(input_k=input_k)** for example\n",
    "\n",
    "The Zel'dovich power spectrum is given by: \n",
    "\n",
    "$$\\mathrm{P}_\\mathrm{zel}\\left(k,\\mu_k\\right)=\\int{d^3q}\\ \\mathrm{e}^{-i\\mathbf{k}\\cdot\\mathbf{q}}\\left[\\mathrm{e}^{-\\frac{1}{2}k_kk_lR_{ik}R_{jl}A_{ij}\\left(\\mathbf{q}\\right)}-1\\right]$$\n",
    "\n",
    "where $A_{ij}\\left(\\mathbf{q}\\right)=X\\left(q\\right)\\delta_{ij}+Y\\left(q\\right)\\hat{q}_i\\hat{q}_j$, $X\\left(q\\right)=\\frac{1}{2\\pi^2}\\int_0^\\infty{dk\\ }\\left[\\frac{2}{3}-2\\frac{j_1\\left(kq\\right)}{kq}\\right]\\mathrm{P}_\\mathrm{L}\\left(k,z\\right)$, $Y\\left(q\\right)=\\frac{1}{2\\pi^2}\\int_0^\\infty{dk\\ }\\left[6\\frac{j_1\\left(kq\\right)}{kq}-2j_0\\left(kq\\right)\\right]\\mathrm{P}_\\mathrm{L}\\left(k,z\\right)$ and $R_{ij}=\\delta_{ij}+f_1\\hat{z}_i\\hat{z}_j$."
   ]
  },
  {
   "cell_type": "code",
   "execution_count": 10,
   "metadata": {
    "colab": {
     "base_uri": "https://localhost:8080/",
     "height": 559
    },
    "colab_type": "code",
    "executionInfo": {
     "elapsed": 70601,
     "status": "ok",
     "timestamp": 1598882585787,
     "user": {
      "displayName": "Francesca Lane",
      "photoUrl": "",
      "userId": "09124338880882311062"
     },
     "user_tz": -60
    },
    "id": "ZuThbZaLteOk",
    "outputId": "26b784f4-cacd-4c79-aba0-b3cb72d15d75"
   },
   "outputs": [
    {
     "name": "stdout",
     "output_type": "stream",
     "text": [
      "Calculated the input power spectrum\n",
      "Calculated the covariances\n",
      "Calculating the power spectrum:\n",
      "[========= ] 99%\n",
      "Time taken to calculate the power spectrum: 63.5860 minutes\n"
     ]
    }
   ],
   "source": [
    "# Calculate the Zel'dovich power spectrum for \\mu_k=0.5 \n",
    "\n",
    "P_zel = GCTM().zeldovich_power_rsd(input_k=k_vals, mu_k_val=0.5)"
   ]
  },
  {
   "cell_type": "code",
   "execution_count": 16,
   "metadata": {},
   "outputs": [
    {
     "data": {
      "text/plain": [
       "<matplotlib.legend.Legend at 0x7fb4486fe8b0>"
      ]
     },
     "execution_count": 16,
     "metadata": {},
     "output_type": "execute_result"
    },
    {
     "data": {
      "image/png": "[encoded data removed]",
      "text/plain": [
       "<Figure size 432x360 with 1 Axes>"
      ]
     },
     "metadata": {
      "needs_background": "light"
     },
     "output_type": "display_data"
    }
   ],
   "source": [
    "## Plot the resulting power spectrum\n",
    "\n",
    "fig = plt.figure(figsize=(6,5))\n",
    "gs = gridspec.GridSpec(1,1)\n",
    "\n",
    "gs.update(wspace=0.05, hspace=0.1)\n",
    "ax1 = fig.add_subplot(gs[0])\n",
    "\n",
    "ax1.loglog(k_vals, P_lin, color=\"black\",label=r\"$\\mathrm{Linear}$\")\n",
    "ax1.loglog(k_vals, P_zel, color=\"red\",linestyle=\"--\",label=r\"$\\mathrm{Zel}^\\prime\\mathrm{dovich}$\")\n",
    "ax1.loglog(k_vals, P_kaiser_05, color=\"blue\",linestyle=\"--\",label=r\"$\\mathrm{Kaiser}$\")\n",
    "ax1.set_xlabel(r\"$k\\ [\\mathrm{h}\\ \\mathrm{Mpc}^{-1}]$\")\n",
    "ax1.set_ylabel(r\"$P(k)\\ [\\mathrm{h}^{-3}\\ \\mathrm{Mpc}^{3}]$\")\n",
    "ax1.set_xlim([1e-3, 10])\n",
    "ax1.set_ylim([1e-5, 1e6])\n",
    "ax1.legend(loc=\"upper right\", frameon=False, fontsize=14)"
   ]
  },
  {
   "cell_type": "markdown",
   "metadata": {
    "colab_type": "text",
    "id": "wQYQKCx21Gf_"
   },
   "source": [
    "# Example II - Calculating the redshift-space GCTM power spectrum"
   ]
  },
  {
   "cell_type": "markdown",
   "metadata": {
    "colab_type": "text",
    "id": "Ly9J7J6-1Qgh"
   },
   "source": [
    "## Calculating the GCTM power spectrum for the Beyond Zel'dovich approximation"
   ]
  },
  {
   "cell_type": "markdown",
   "metadata": {
    "colab_type": "text",
    "id": "ocP0Bsr11p5U"
   },
   "source": [
    "The GCTM parameters are:\n",
    "\n",
    "**z_val**: value at which the GCTM power spectrum is calculated (default z_val=0)\n",
    "\n",
    "**zinit**: value at which the GCTM time dependent factors are integrated from (default zinit=99)\n",
    "\n",
    "**epsilon**: the value of the expansion parameter (default epsilon=1)\n",
    "\n",
    "**kc**: the cutoff value for calculating the damped GCTM power spectrum (default kc=0.0)\n",
    "\n",
    "**input_k**: specify k values\n",
    "\n",
    "**input_P**: specify P_values at z=0 (note input_k values must be given as well)\n",
    "\n",
    "**input_z**: The redshift values for which the A(z) and B(z) arrays are calculated for\n",
    "\n",
    "**input_A**: input A(z) array (note input_z values must be given as well)\n",
    "\n",
    "**input_B**: input B(z) array (note input_z values must be given as well)\n",
    "\n",
    "**mu_k_val**: the line-of-sight angle parameter defined as $\\mu_k=\\hat{\\mathbf{k}}\\cdot\\hat{\\mathbf{z}}$ where $\\hat{\\mathbf{z}}$ is the global line-of-sight\n",
    "\n",
    "These values can be speficied by\n",
    "\n",
    "**GCTM().gctm_power(z_val=z_val, zinit=zinit, epsilon=epsilon, kc=kc)**\n",
    "\n",
    "The GCTM trajectory is:\n",
    "\n",
    "$$x_i\\left(\\mathbf{q},z\\right)=q_i+\\Psi_j\\left(\\mathbf{q},z_i\\right)\\left[A\\left(z\\right)\\delta_{ij}+B\\left(z\\right)E_{ij}\\left(\\mathbf{q},z_i\\right)\\right]$$\n",
    "\n",
    "where $A\\left(z\\right)=\\frac{D_1\\left(z\\right)}{D_1\\left(z_i\\right)}$ for the Beyond Zel'dovich approximation or can be specified by the user, $B\\left(z\\right)=-\\frac{3}{2}\\Omega_m^2H_0\\epsilon\\int_{z'}^z\\int_{z_i}^z\\frac{dz''}{H\\left(z''\\right)}\\frac{dz'}{H\\left(z'\\right)a'}A\\left(z'\\right)^2$ and $E_{ij}=\\nabla_i\\nabla_j\\nabla^{-2}\\delta$."
   ]
  },
  {
   "cell_type": "code",
   "execution_count": 5,
   "metadata": {
    "colab": {
     "base_uri": "https://localhost:8080/",
     "height": 238
    },
    "colab_type": "code",
    "executionInfo": {
     "elapsed": 86208,
     "status": "ok",
     "timestamp": 1598882770930,
     "user": {
      "displayName": "Francesca Lane",
      "photoUrl": "",
      "userId": "09124338880882311062"
     },
     "user_tz": -60
    },
    "id": "C5KoFOaN1NQr",
    "outputId": "c7f88f2f-a866-480a-f0ed-4a13a0ea13df"
   },
   "outputs": [
    {
     "name": "stdout",
     "output_type": "stream",
     "text": [
      "Calculated the input power spectrum\n",
      "Calculated time dependent functions A(z) and B(z)\n",
      "Calculated the covariances\n",
      "0.5\n",
      "Calculating the power spectrum:\n",
      "[========= ] 99%\n",
      "Time taken to calculate the power spectrum: 76.9877 minutes\n"
     ]
    }
   ],
   "source": [
    "P_gctm = GCTM().gctm_power_rsd(input_k=k_vals, mu_k_val=0.5)"
   ]
  },
  {
   "cell_type": "code",
   "execution_count": 12,
   "metadata": {},
   "outputs": [
    {
     "name": "stdout",
     "output_type": "stream",
     "text": [
      "Calculated the input power spectrum\n",
      "Calculated time dependent functions A(z) and B(z)\n",
      "Calculated the covariances\n",
      "Calculating the power spectrum:\n",
      "[========= ] 99%\n",
      "Time taken to calculate the power spectrum: 6.1906 minutes\n"
     ]
    }
   ],
   "source": [
    "P_gctm_rs = GCTM().gctm_power(input_k=k_vals)"
   ]
  },
  {
   "cell_type": "code",
   "execution_count": 15,
   "metadata": {
    "colab": {
     "base_uri": "https://localhost:8080/",
     "height": 360
    },
    "colab_type": "code",
    "executionInfo": {
     "elapsed": 1476,
     "status": "ok",
     "timestamp": 1598882823211,
     "user": {
      "displayName": "Francesca Lane",
      "photoUrl": "",
      "userId": "09124338880882311062"
     },
     "user_tz": -60
    },
    "id": "xDAikd9l1Z7j",
    "outputId": "9273bcdc-1854-4993-edc5-d20ebb173183"
   },
   "outputs": [
    {
     "data": {
      "text/plain": [
       "<matplotlib.legend.Legend at 0x7fbcdeddd310>"
      ]
     },
     "execution_count": 15,
     "metadata": {},
     "output_type": "execute_result"
    },
    {
     "data": {
      "image/png": "[encoded data removed]",
      "text/plain": [
       "<Figure size 432x360 with 1 Axes>"
      ]
     },
     "metadata": {
      "needs_background": "light"
     },
     "output_type": "display_data"
    }
   ],
   "source": [
    "## Plot the resulting power spectrum\n",
    "\n",
    "fig = plt.figure(figsize=(6,5))\n",
    "gs = gridspec.GridSpec(1,1)\n",
    "\n",
    "gs.update(wspace=0.05, hspace=0.1)\n",
    "\n",
    "ax1 = fig.add_subplot(gs[0])\n",
    "ax1.loglog(k_vals, P_gctm, color=\"black\", label=r\"$\\mathrm{Beyond\\ Zel}$\")\n",
    "ax1.loglog(k_vals, P_kaiser_05, color=\"red\", linestyle='--', label=r\"$\\mathrm{Kaiser}$\")\n",
    "ax1.set_xlabel(r\"$k\\ [\\mathrm{h}\\ \\mathrm{Mpc}^{-1}]$\")\n",
    "ax1.set_ylabel(r\"$P(k)\\ [\\mathrm{h}^{-3}\\ \\mathrm{Mpc}^{3}]$\")\n",
    "ax1.set_xlim([1e-3, 10.0])\n",
    "ax1.set_ylim([1e-2, 1e5])\n",
    "ax1.legend(loc=\"upper right\", frameon=False, fontsize=14)"
   ]
  },
  {
   "cell_type": "code",
   "execution_count": null,
   "metadata": {
    "colab": {},
    "colab_type": "code",
    "id": "dHphRsZk6WAb"
   },
   "outputs": [],
   "source": []
  }
 ],
 "metadata": {
  "colab": {
   "collapsed_sections": [
    "_qyePTAUvPeC",
    "Ag0gl-pHteON",
    "ji03cOlUteOU",
    "Y4zsMn4EteOj",
    "Ly9J7J6-1Qgh",
    "8hbAzjrm2l5P",
    "lKw1Fu145677"
   ],
   "name": "GCTM_real_space_examples.ipynb",
   "provenance": []
  },
  "kernelspec": {
   "display_name": "Python 3",
   "language": "python",
   "name": "python3"
  },
  "language_info": {
   "codemirror_mode": {
    "name": "ipython",
    "version": 3
   },
   "file_extension": ".py",
   "mimetype": "text/x-python",
   "name": "python",
   "nbconvert_exporter": "python",
   "pygments_lexer": "ipython3",
   "version": "3.7.6"
  }
 },
 "nbformat": 4,
 "nbformat_minor": 1
}
