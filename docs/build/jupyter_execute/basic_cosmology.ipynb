{
 "cells": [
  {
   "cell_type": "code",
   "execution_count": 1,
   "metadata": {},
   "outputs": [],
   "source": [
    "import matplotlib as mpl\n",
    "\n",
    "mpl.rcParams['text.latex.preamble'] = [r\"\\usepackage{amsmath}\"]\n",
    "mpl.rcParams[\"text.usetex\"] = True\n",
    "mpl.rcParams['font.family'] = 'sans-serif'\n",
    "mpl.rcParams['font.sans-serif'] = 'cm'\n",
    "mpl.rcParams[\"lines.linewidth\"] = 2.2\n",
    "mpl.rcParams[\"axes.linewidth\"] = 1.5\n",
    "mpl.rcParams[\"axes.labelsize\"] = 14.\n",
    "mpl.rcParams[\"xtick.top\"] = True\n",
    "mpl.rcParams[\"xtick.labelsize\"] = 14.\n",
    "mpl.rcParams[\"xtick.direction\"] = \"in\"\n",
    "mpl.rcParams[\"ytick.right\"] = True\n",
    "mpl.rcParams[\"ytick.labelsize\"] = 14.\n",
    "mpl.rcParams[\"ytick.direction\"] = \"in\"\n",
    "mpl.rcParams[\"xtick.minor.bottom\"] = False\n",
    "mpl.rcParams[\"xtick.minor.top\"] = False\n",
    "mpl.rcParams[\"ytick.minor.left\"] = False\n",
    "mpl.rcParams[\"ytick.minor.right\"] = False\n",
    "\n",
    "linestyles = [\"-\", \"--\", \"-.\", \":\"]"
   ]
  },
  {
   "cell_type": "code",
   "execution_count": 2,
   "metadata": {},
   "outputs": [
    {
     "data": {
      "image/png": "[encoded data removed]",
      "text/plain": [
       "<Figure size 432x288 with 1 Axes>"
      ]
     },
     "metadata": {
      "filenames": {
       "image/png": "/Users/francescalane/my_phd/general_cosmological_trajectories_method/general_run/gctm_code/ctm/docs/build/jupyter_execute/basic_cosmology_1_0.png"
      },
      "needs_background": "light"
     },
     "output_type": "display_data"
    }
   ],
   "source": [
    "import numpy as np\n",
    "import matplotlib.pyplot as plt\n",
    "from ctm import Cosmo\n",
    "\n",
    "# Define the redshift values\n",
    "\n",
    "z_vals=np.linspace(0.0, 200.0, 100)\n",
    "\n",
    "# Calculate the linear growth factor values\n",
    "\n",
    "D_1_vals=Cosmo(h=0.7, omega0_b=0.02233, omega0_cdm=0.112, n_s=0.96, sigma_8=0.8, k_max=10.0, verbose=False, gauge='sync', output='mPk').calc_linear_growth(z_vals)\n",
    "\n",
    "# Plot the results\n",
    "\n",
    "plt.plot(z_vals, D_1_vals, color=\"black\", linestyle='-', linewidth=2.2, alpha=0.8)\n",
    "plt.xlabel(r\"$z$\", fontsize=14.)\n",
    "plt.ylabel(r\"$D_1$\", fontsize=14.)\n",
    "plt.xlim([-2, 202])\n",
    "plt.ylim([-0.2, 1.2])\n",
    "plt.show()"
   ]
  },
  {
   "cell_type": "code",
   "execution_count": 3,
   "metadata": {},
   "outputs": [
    {
     "data": {
      "image/png": "[encoded data removed]",
      "text/plain": [
       "<Figure size 432x288 with 1 Axes>"
      ]
     },
     "metadata": {
      "filenames": {
       "image/png": "/Users/francescalane/my_phd/general_cosmological_trajectories_method/general_run/gctm_code/ctm/docs/build/jupyter_execute/basic_cosmology_2_0.png"
      },
      "needs_background": "light"
     },
     "output_type": "display_data"
    }
   ],
   "source": [
    "# Calculate the independent growth factor values\n",
    "\n",
    "f_vals=Cosmo(h=0.7, omega0_b=0.02233, omega0_cdm=0.112, n_s=0.96, sigma_8=0.8, k_max=10.0, verbose=False, gauge='sync', output='mPk').calc_independent_linear_growth(z_vals)\n",
    "\n",
    "# Plot the results\n",
    "\n",
    "plt.plot(z_vals, f_vals, color=\"black\", linestyle='-', linewidth=2.2, alpha=0.8)\n",
    "plt.xlabel(r\"$z$\", fontsize=14.)\n",
    "plt.ylabel(r\"$f$\", fontsize=14.)\n",
    "plt.xlim([-2, 202])\n",
    "plt.ylim([0.5, 1.2])\n",
    "plt.show()"
   ]
  }
 ],
 "metadata": {
  "kernelspec": {
   "display_name": "Python 3",
   "language": "python",
   "name": "python3"
  },
  "language_info": {
   "codemirror_mode": {
    "name": "ipython",
    "version": 3
   },
   "file_extension": ".py",
   "mimetype": "text/x-python",
   "name": "python",
   "nbconvert_exporter": "python",
   "pygments_lexer": "ipython3",
   "version": "3.7.6"
  }
 },
 "nbformat": 4,
 "nbformat_minor": 4
}